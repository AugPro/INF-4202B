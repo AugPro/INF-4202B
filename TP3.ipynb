{
 "cells": [
  {
   "cell_type": "markdown",
   "metadata": {},
   "source": [
    "# <center>Algorithmes pour le traitement de séquences.<br/>Alignement optimal et logiciel d’aide à la dététection de plagiat</center>\n",
    "<center>https://perso.esiee.fr/~coustyj/Sequences/IT-4301E-TDm2.html</center>"
   ]
  },
  {
   "cell_type": "markdown",
   "metadata": {},
   "source": [
    "## Question 1\n",
    "**Proposer un algorithme en O(|x| × |y|) pour calculer le score d’un alignement optimal entre x et y (indications : on essaiera de se ramener à un problème connu).**"
   ]
  },
  {
   "cell_type": "markdown",
   "metadata": {},
   "source": [
    "Pour calculer le score d'un alignement optimal entre x et y, il nous faut dans un premier temps comprendre de quoi il s'agit. En nous référant à la **Définition 3**, on peut lire : \"le score d’un alignement (x′,y′) est la grandeur d(x′,y′) égale au nombre de caractères mal appariés entre x′ et y′. Un alignement (x′,y′) de deux séquences x et y définies sur A est dit optimal (pour d) si son score est inférieur ou égal au score de tout autre alignement de x et y.\"  \n",
    "\n",
    "Les termes \"mal appariés\" nous mettent la puce à l'oreille. En effet, dans notre cours *\"Comparaison de séquences : distance d'édition\"*, nous avions noté : \"\\[les distances d'édition\\] sont définies à partir d'opérations d'édition qui permettent de transformer un mot x en un mot y\". Ces opérations (substitution, suppression, insertion) s'appliquent caractère par caractère. Si on associe un coût à chacune de ces opérations (toujours 1 pour la suppression et l'insertion et 1 pour la substitution si les caractères comparés sont différents, 0 sinon), alors faire la somme des coûts des étapes d'une transformation d'un texte 1 en un texte 2 nous permet de compter les \"mauvais appariement\" et donc revient à calculer le score d'un alignement entre x et y. Il en découle que scorer la transformation d'un texte 1 en un texte 2 comportant les étapes les moins coûteuses, autrement dit la distance d'édition, revient à scorer l'alignement optimal entre x et y.  \n",
    "\n",
    "Il se trouve que nous connaissons un algorithme qui nous permet de calculer cette distance d'édition : l'algorithme de Levenshtein. Ce dernier nous permet de construire une matrice de dimension (|x|+1)\\*(|y|+1), qui pour chaque (i,j) associe la distance d'édition entre xi et yj. Le dernier élément de cette matrice sera donc le score d'un alignement optimal (et de la distance d'édition) entre x et y."
   ]
  },
  {
   "cell_type": "markdown",
   "metadata": {},
   "source": [
    "## Question 2\n",
    "\n",
    "**On considère la matrice T de taille (|x|+1) × (|y|+1) telle que T[i][j] est le score d’un alignement optimal entre xi et yj, où xi et yj désignent les préfixes de x et de y de longueur i et j respectivement.**\n",
    "\n",
    "**Étant donnée la matrice T (obtenue par exemple avec l’algorithme de la question 1) et les séquences x et y, proposez un schéma de programme retournant un alignement optimal (x′,y′) de x et y.**\n",
    "\n",
    "**Évaluer la complexité de calcul de l’algorithme proposé; si celle-ci n’est pas linéaire, proposez un autre algorithme de complexité linéaire.**"
   ]
  },
  {
   "cell_type": "markdown",
   "metadata": {},
   "source": [
    "Notre objectif est, à partir de la matrice T obtenue grâce à l'algorithme discuté dans la question 1, de construire un alignement optimal (x′,y′) de x et y.  \n",
    "\n",
    "Notre idée est d'utiliser les informations que la matrice T porte, pour construire un alignement optimal. L'algorithme serait une fonction à laquelle nous passerions la matrice T retournée par l'algorithme de Levenshtein, les indices i et j, ainsi que les textes x et y. Cette fonction sera récursive. Expliquons son fonctionnement par disjonction de cas :  \n",
    "  * soit les lettres en x[i-1] et y[j-1] sont les même, et cela veut dire que l'on a nécessairement fait une subsitution (de coût 0), auquel cas, on rappelle la fonction en décrémentant de 1 i et j.  \n",
    "  * soit les lettres en x[i-1] et y[j-1] sont différentes, auquel cas, on a forcément \"payé\" un coût de 1 et :  \n",
    "    - soit T[i-1, j-1] est strictement inférieur à T[i, j], donc deux lettres ont été substituées, pas de décalage nécessaire, on rappelle la fonction en décrémentant i et j de 1.\n",
    "    - soit T[i-1, j] est strictement inférieur à T[i, j], donc une lettre a été ajoutée au texte y, un décalage est nécessaire : on insère un \"_\" à l'indice j de y. Enfin, on rappelle la fonction en décrémentant i de 1.\n",
    "    - soit T[i, j-1] est strictement inférieur à T[i, j], donc une lettre a été supprimée du texte y, un décalage est nécessaire : on insère un \"_\" à l'indice i de x. Enfin, on rappelle la fonction en décrémentant j de 1.\n",
    "    \n",
    "On ne négligera pas les conditions d'arrêt :\n",
    "  * si i est égal à 0 : on insère autant de décalage qu'il n'y a de lettres restantes dans y\n",
    "  * si j est égal à 0 : on insère autant de décalage qu'il n'y a de lettres restantes dans i"
   ]
  },
  {
   "cell_type": "markdown",
   "metadata": {},
   "source": [
    "# Question 3\n",
    "\n",
    "**Implémentez les algorithmes des questions 1 et 2 et testez les en affichant un alignement optimal de texte1.txt et texte2.txt**"
   ]
  },
  {
   "cell_type": "markdown",
   "metadata": {},
   "source": [
    "Importons le paquet dont nous avons besoin : *numpy*"
   ]
  },
  {
   "cell_type": "code",
   "execution_count": 1,
   "metadata": {},
   "outputs": [],
   "source": [
    "import numpy as np"
   ]
  },
  {
   "cell_type": "markdown",
   "metadata": {},
   "source": [
    "Implémentation de la question 1"
   ]
  },
  {
   "cell_type": "code",
   "execution_count": 2,
   "metadata": {},
   "outputs": [],
   "source": [
    "def levenshtein_distance(a :str, b:str) -> int:\n",
    "    n,m = len(a),len(b)\n",
    "    T = np.zeros((n+1,m+1))\n",
    "    T[:,0] = range(n+1)\n",
    "    T[0,:] = range(m+1)\n",
    "    \n",
    "    for i in range(n):\n",
    "        for j in range(m):\n",
    "            same = int(a[i]!=b[j])\n",
    "            T[i+1,j+1] = min(\n",
    "                        T[i, j] + same, # substitution\n",
    "                        T[i, j+1] + 1, # insertion\n",
    "                        T[i+1, j] + 1  # suppression\n",
    "                    )\n",
    "            \n",
    "    return T"
   ]
  },
  {
   "cell_type": "markdown",
   "metadata": {},
   "source": [
    "Implémentation de la question 2"
   ]
  },
  {
   "cell_type": "code",
   "execution_count": 3,
   "metadata": {},
   "outputs": [],
   "source": [
    "def reverse_lev(T, i, j, x, y):\n",
    "    \n",
    "    if i==0:\n",
    "        x = ['_']*j + x\n",
    "        return '%s\\n%s'%(''.join(x), ''.join(y))\n",
    "    if j==0:\n",
    "        y = ['_']*i + y\n",
    "        return '%s\\n%s'%(''.join(x), ''.join(y))\n",
    "    \n",
    "    xi, yj = x[i-1], y[j-1]\n",
    "\n",
    "    if xi == yj:\n",
    "        return reverse_lev(T, i-1, j-1, x, y)\n",
    "    \n",
    "    else:\n",
    "        \n",
    "        if T[i-1, j-1] < T[i, j]:\n",
    "            return reverse_lev(T, i-1, j-1, x, y)\n",
    "\n",
    "        elif T[i-1, j] < T[i, j]:\n",
    "            y.insert(j,'_')\n",
    "            return reverse_lev(T, i-1, j, x, y)\n",
    "        \n",
    "        else:\n",
    "            x.insert(i,'_')\n",
    "            return reverse_lev(T, i, j-1, x, y)"
   ]
  },
  {
   "cell_type": "markdown",
   "metadata": {},
   "source": [
    "Test en affichant un alignement optimal de texte1.txt et de texte2.txt"
   ]
  },
  {
   "cell_type": "code",
   "execution_count": 4,
   "metadata": {},
   "outputs": [
    {
     "name": "stdout",
     "output_type": "stream",
     "text": [
      "Score d’un alignement optimal entre texte1.txt et texte2.txt :  577.0 \n",
      "\n",
      "Affichage d'un alignement optimal :\n",
      "\n",
      " Source Wik____________i__p_________________________________________________________e_d____i_____a____. La distance de _Levenshtein une distanc______e__ mathematique donnant une mesure de la similarite entre deux chaines de caracteres. Elle est egale au nombre minimal de caracteres qu il faut supprimer, inserer ou _remplacer pour passer d une _chain_e a l autre. Elle a ete proposee par Vladimir Levenshtein en 1965. Elle est______ egalement connue sous les noms de distance d_ ___e_dition ou____________ de deformation dynamique temporelle, notamment en reconnaissance de formes et particulierement en reconnaissance vocale1,2._Cette distance est __d _autant plus grande que le nombre de differences entre les deux chaines est grand. La distance de Levenshtein peut etre consideree comme une generalisation de la distance de Hamming________________________________________________________________________________________________________. On peut montrer en particulier que la distance de Hamming est un majorant de la distance de Levenshtein.Definition_________ : on appelle distance de Levenshtein entre deux mots M et P le cout minimal pour aller de M _a P en effectuant les operations elementair_______es___________ suivantes : i) substitution d un caractere de M _en un caractere de P ; ii) _ajout___ dans M d un caractere de P ; iii) suppress_____________ion_ d un caractere de M. On associe ainsi a chacune de ces operations un cout. Le c_o__ut ____est toujours egal a 1, sauf __dans le_ ___ca____s __d une___ substitution de caracteres identiques_____________. ____Exemples : si M = \"examen\" et P = \"examen\", alors LD (M, P) = 0, parce qu aucune operation n a ete realisee. Si M = \"examen\" et P = \"examan\", alors LD (M, P) = 1, parce qu il y a eu un_ remplacement (changement du e en a), et que l on ne peut pas en fai______________r___________________e____ moin_______s.\n",
      "\n",
      "Source Wikipedia modifie par un etudiant du cours IT-4301E, traitement algorithmique de l information. La distance de d editon est une distance au sens mathematique donnant une mesure de la similarite entre deux ______s__e_quenc___es. Elle est egale au nombre minimal de caracteres qu il faut supprimer, inserer ou substituer pour passer d une sequence a l autre. Elle a ete proposee par Vladimir Levenshtein en 1965. Elle est ainsi egalement connue sous les noms de distance de Levenshtein ou de distance de deformation dynamique temporelle_ __da___ns le __do_mai___n_e d_________e_ _______l__________a reconnaissance de formes. Cette distance est est une fonction croissante du nombre de differences entre les deux _sequences_______. La distance d_ ___e_dition peut etre consideree comme une generalisation de la distance de Hamming (donnee par le nombre de position en lesquelles les deux sequences possedent des caracteres differents). On peut montrer en particulier que la distance de Hamming est un majorant de la distance d_ ___e_dition.Definition formelle : on appelle distance d_ ___e_dition entre deux mots M et P le cout minimal __transformer M en P en effectuant les operations elementaires, dites d edition, suivantes : i) substitution d un caractere de M par un caractere de P ; ii) insertion dans M d un caractere de P ; iii) suppression (ou deletion) d un caractere de M. On associe ainsi a chacune de ces operations un cout. On choisit souvent un cou_t egal a 1_ pour toutes les operations excepte la substitution de caracteres identiques qui a un cout nul.Exemples : si M = \"examen\" et P = \"examen\", alors Lev(M, P) = 0_ parce qu aucune operation n a ete realisee. Si M = \"examen\" et P = \"examan\", alors Lev(M, P) = 1, parce qu il y a eu une substitution (changement du e en a), et que l on ne peut pas en faire une transformation de M en P avec un moindre cout.\n",
      "\n"
     ]
    }
   ],
   "source": [
    "# Lecture des textes\n",
    "t1 = open('texte1.txt').read()\n",
    "t2 = open('texte2.txt').read()\n",
    "\n",
    "# Génération de la matrice T contenant les coûts d'édition pour chaque couple (xi, yj)\n",
    "T = levenshtein_distance(t1, t2)\n",
    "print(\"Score d’un alignement optimal entre texte1.txt et texte2.txt : \", T[-1, -1], \"\\n\")\n",
    "\n",
    "# Affichage d'un alignement optimal\n",
    "print(\"Affichage d'un alignement optimal :\\n\\n\", reverse_lev(T, T.shape[0]-1, T.shape[1]-1, list(t1), list(t2)))"
   ]
  }
 ],
 "metadata": {
  "kernelspec": {
   "display_name": "Python 3",
   "language": "python",
   "name": "python3"
  },
  "language_info": {
   "codemirror_mode": {
    "name": "ipython",
    "version": 3
   },
   "file_extension": ".py",
   "mimetype": "text/x-python",
   "name": "python",
   "nbconvert_exporter": "python",
   "pygments_lexer": "ipython3",
   "version": "3.6.5"
  },
  "latex_envs": {
   "LaTeX_envs_menu_present": true,
   "autoclose": false,
   "autocomplete": true,
   "bibliofile": "biblio.bib",
   "cite_by": "apalike",
   "current_citInitial": 1,
   "eqLabelWithNumbers": true,
   "eqNumInitial": 1,
   "hotkeys": {
    "equation": "Ctrl-E",
    "itemize": "Ctrl-I"
   },
   "labels_anchors": false,
   "latex_user_defs": false,
   "report_style_numbering": false,
   "user_envs_cfg": false
  }
 },
 "nbformat": 4,
 "nbformat_minor": 2
}
