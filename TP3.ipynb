{
 "cells": [
  {
   "cell_type": "markdown",
   "metadata": {},
   "source": [
    "# <center>Algorithmes pour le traitement de séquences.<br/>Alignement optimal et logiciel d’aide à la dététection de plagiat</center>\n",
    "<center>https://perso.esiee.fr/~coustyj/Sequences/IT-4301E-TDm2.html</center>"
   ]
  },
  {
   "cell_type": "markdown",
   "metadata": {},
   "source": [
    "## Question 1\n",
    "**Proposer un algorithme en O(|x| × |y|) pour calculer le score d’un alignement optimal entre x et y (indications : on essaiera de se ramener à un problème connu).**"
   ]
  },
  {
   "cell_type": "markdown",
   "metadata": {},
   "source": [
    "Pour calculer le score d'un alignement optimal entre x et y, il nous faut dans un premier temps comprendre de quoi il s'agit. En nous référant à la **Définition 3**, on peut lire : \"le score d’un alignement (x′,y′) est la grandeur d(x′,y′) égale au nombre de caractères mal appariés entre x′ et y′. Un alignement (x′,y′) de deux séquences x et y définies sur A est dit optimal (pour d) si son score est inférieur ou égal au score de tout autre alignement de x et y.\"  \n",
    "\n",
    "Les termes \"mal appariés\" nous mettent la puce à l'oreille. En effet, dans notre cours *\"Comparaison de séquences : distance d'édition\"*, nous avions noté : \"\\[les distances d'édition\\] sont définies à partir d'opérations d'édition qui permettent de transformer un mot x en un mot y\". Ces opérations (substitution, suppression, insertion) s'appliquent caractère par caractère. Si on associe un coût à chacune de ces opérations (toujours 1 pour la suppression et l'insertion et 1 pour la substitution si les caractères comparés sont différents, 0 sinon), alors faire la somme des coûts des étapes d'une transformation d'un texte 1 en un texte 2 nous permet de compter les \"mauvais appariement\" et donc revient à calculer le score d'un alignement entre x et y. Il en découle que scorer la transformation d'un texte 1 en un texte 2 comportant les étapes les moins coûteuses, autrement dit la distance d'édition, revient à scorer l'alignement optimal entre x et y.  \n",
    "\n",
    "Il se trouve que nous connaissons un algorithme qui nous permet de calculer cette distance d'édition : l'algorithme de Levenshtein. Ce dernier nous permet de construire une matrice de dimension (|x|+1)\\*(|y|+1), qui pour chaque (i,j) associe la distance d'édition entre xi et yj. Le dernier élément de cette matrice sera donc le score d'un alignement optimal (et de la distance d'édition) entre x et y."
   ]
  },
  {
   "cell_type": "markdown",
   "metadata": {},
   "source": [
    "## Question 2\n",
    "\n",
    "**On considère la matrice T de taille (|x|+1) × (|y|+1) telle que T[i][j] est le score d’un alignement optimal entre xi et yj, où xi et yj désignent les préfixes de x et de y de longueur i et j respectivement.**\n",
    "\n",
    "**Étant donnée la matrice T (obtenue par exemple avec l’algorithme de la question 1) et les séquences x et y, proposez un schéma de programme retournant un alignement optimal (x′,y′) de x et y.**\n",
    "\n",
    "**Évaluer la complexité de calcul de l’algorithme proposé; si celle-ci n’est pas linéaire, proposez un autre algorithme de complexité linéaire.**"
   ]
  },
  {
   "cell_type": "markdown",
   "metadata": {},
   "source": [
    "Notre objectif est, à partir de la matrice T obtenue grâce à l'algorithme discuté dans la question 1, de construire un alignement optimal (x′,y′) de x et y.  \n",
    "\n",
    "Notre idée est d'utiliser les informations que la matrice T porte, pour construire un alignement optimal. L'algorithme serait une fonction à laquelle nous passerions la matrice T retournée par l'algorithme de Levenshtein, les indices i et j, ainsi que les textes x et y. Cette fonction sera récursive. Expliquons son fonctionnement par disjonction de cas :  \n",
    "  * soit les lettres en x[i-1] et y[j-1] sont les même, et cela veut dire que l'on a nécessairement fait une subsitution (de coût 0), auquel cas, on rappelle la fonction en décrémentant de 1 i et j.  \n",
    "  * soit les lettres en x[i-1] et y[j-1] sont différentes, auquel cas, on a forcément \"payé\" un coût de 1 et :  \n",
    "    - soit T[i-1, j-1] est strictement inférieur à T[i, j], donc deux lettres ont été substituées, pas de décalage nécessaire, on rappelle la fonction en décrémentant i et j de 1.\n",
    "    - soit T[i-1, j] est strictement inférieur à T[i, j], donc une lettre a été ajoutée au texte y, un décalage est nécessaire : on insère un \"_\" à l'indice j de y. Enfin, on rappelle la fonction en décrémentant i de 1.\n",
    "    - soit T[i, j-1] est strictement inférieur à T[i, j], donc une lettre a été supprimée du texte y, un décalage est nécessaire : on insère un \"_\" à l'indice i de x. Enfin, on rappelle la fonction en décrémentant j de 1.\n",
    "    \n",
    "On ne négligera pas les conditions d'arrêt :\n",
    "  * si i est égal à 0 : on insère autant de décalage qu'il n'y a de lettres restantes dans y\n",
    "  * si j est égal à 0 : on insère autant de décalage qu'il n'y a de lettres restantes dans i\n",
    "  \n",
    "  \n",
    "Cet algorithme a une complexité linéaire. En effet, on peut remarquer que dans chacun des cas, on rappelle notre fonction en décrémentant au moins un de nos indices i et j. Ainsi, dans le pire des cas, on aura i+j appels à notre fonction. Chacune de nos actions dans cette fonction étant en temps constant, notre algorithme est bien en temps linéaire."
   ]
  },
  {
   "cell_type": "markdown",
   "metadata": {},
   "source": [
    "# Question 3\n",
    "\n",
    "**Implémentez les algorithmes des questions 1 et 2 et testez les en affichant un alignement optimal de texte1.txt et texte2.txt**"
   ]
  },
  {
   "cell_type": "markdown",
   "metadata": {},
   "source": [
    "Importons le paquet dont nous avons besoin : *numpy*"
   ]
  },
  {
   "cell_type": "code",
   "execution_count": 1,
   "metadata": {},
   "outputs": [],
   "source": [
    "import numpy as np"
   ]
  },
  {
   "cell_type": "markdown",
   "metadata": {},
   "source": [
    "Implémentation de la question 1"
   ]
  },
  {
   "cell_type": "code",
   "execution_count": 2,
   "metadata": {},
   "outputs": [],
   "source": [
    "def levenshtein_distance(a :str, b:str) -> int:\n",
    "    n,m = len(a),len(b)\n",
    "    T = np.zeros((n+1,m+1))\n",
    "    T[:,0] = range(n+1)\n",
    "    T[0,:] = range(m+1)\n",
    "    \n",
    "    for i in range(n):\n",
    "        for j in range(m):\n",
    "            same = int(a[i]!=b[j])\n",
    "            T[i+1,j+1] = min(\n",
    "                        T[i, j] + same, # substitution\n",
    "                        T[i, j+1] + 1, # insertion\n",
    "                        T[i+1, j] + 1  # suppression\n",
    "                    )\n",
    "            \n",
    "    return T"
   ]
  },
  {
   "cell_type": "markdown",
   "metadata": {},
   "source": [
    "Implémentation de la question 2"
   ]
  },
  {
   "cell_type": "code",
   "execution_count": 3,
   "metadata": {},
   "outputs": [],
   "source": [
    "def reverse_lev(T, i, j, x, y):\n",
    "    \n",
    "    if i==0:\n",
    "        x = ['_']*j + x\n",
    "        return '%s\\n%s'%(''.join(x), ''.join(y))\n",
    "    if j==0:\n",
    "        y = ['_']*i + y\n",
    "        return '%s\\n%s'%(''.join(x), ''.join(y))\n",
    "    \n",
    "    xi, yj = x[i-1], y[j-1]\n",
    "\n",
    "    if xi == yj:\n",
    "        return reverse_lev(T, i-1, j-1, x, y)\n",
    "    \n",
    "    else:\n",
    "        \n",
    "        if T[i-1, j-1] < T[i, j]:\n",
    "            return reverse_lev(T, i-1, j-1, x, y)\n",
    "\n",
    "        elif T[i-1, j] < T[i, j]:\n",
    "            y.insert(j,'_')\n",
    "            return reverse_lev(T, i-1, j, x, y)\n",
    "        \n",
    "        else:\n",
    "            x.insert(i,'_')\n",
    "            return reverse_lev(T, i, j-1, x, y)"
   ]
  },
  {
   "cell_type": "markdown",
   "metadata": {},
   "source": [
    "Test en affichant un alignement optimal de texte1.txt et de texte2.txt"
   ]
  },
  {
   "cell_type": "code",
   "execution_count": 4,
   "metadata": {},
   "outputs": [
    {
     "name": "stdout",
     "output_type": "stream",
     "text": [
      "Score d’un alignement optimal entre texte1.txt et texte2.txt :  577.0 \n",
      "\n"
     ]
    },
    {
     "ename": "NameError",
     "evalue": "name 't1' is not defined",
     "output_type": "error",
     "traceback": [
      "\u001b[1;31m---------------------------------------------------------------------------\u001b[0m",
      "\u001b[1;31mNameError\u001b[0m                                 Traceback (most recent call last)",
      "\u001b[1;32m<ipython-input-4-d3f2c848fe86>\u001b[0m in \u001b[0;36m<module>\u001b[1;34m()\u001b[0m\n\u001b[0;32m      8\u001b[0m \u001b[1;33m\u001b[0m\u001b[0m\n\u001b[0;32m      9\u001b[0m \u001b[1;31m# Affichage d'un alignement optimal\u001b[0m\u001b[1;33m\u001b[0m\u001b[1;33m\u001b[0m\u001b[0m\n\u001b[1;32m---> 10\u001b[1;33m \u001b[0mprint\u001b[0m\u001b[1;33m(\u001b[0m\u001b[1;34m\"Affichage d'un alignement optimal :\\n\\n\"\u001b[0m\u001b[1;33m,\u001b[0m \u001b[0mreverse_lev\u001b[0m\u001b[1;33m(\u001b[0m\u001b[0mT\u001b[0m\u001b[1;33m,\u001b[0m \u001b[0mT\u001b[0m\u001b[1;33m.\u001b[0m\u001b[0mshape\u001b[0m\u001b[1;33m[\u001b[0m\u001b[1;36m0\u001b[0m\u001b[1;33m]\u001b[0m\u001b[1;33m-\u001b[0m\u001b[1;36m1\u001b[0m\u001b[1;33m,\u001b[0m \u001b[0mT\u001b[0m\u001b[1;33m.\u001b[0m\u001b[0mshape\u001b[0m\u001b[1;33m[\u001b[0m\u001b[1;36m1\u001b[0m\u001b[1;33m]\u001b[0m\u001b[1;33m-\u001b[0m\u001b[1;36m1\u001b[0m\u001b[1;33m,\u001b[0m \u001b[0mlist\u001b[0m\u001b[1;33m(\u001b[0m\u001b[0mt1\u001b[0m\u001b[1;33m)\u001b[0m\u001b[1;33m,\u001b[0m \u001b[0mlist\u001b[0m\u001b[1;33m(\u001b[0m\u001b[0mt2\u001b[0m\u001b[1;33m)\u001b[0m\u001b[1;33m)\u001b[0m\u001b[1;33m)\u001b[0m\u001b[1;33m\u001b[0m\u001b[0m\n\u001b[0m",
      "\u001b[1;31mNameError\u001b[0m: name 't1' is not defined"
     ]
    }
   ],
   "source": [
    "# Lecture des textes\n",
    "texte1 = open('texte1.txt').read()\n",
    "texte2 = open('texte2.txt').read()\n",
    "\n",
    "# Génération de la matrice T contenant les coûts d'édition pour chaque couple (xi, yj)\n",
    "T = levenshtein_distance(texte1, texte2)\n",
    "print(\"Score d’un alignement optimal entre texte1.txt et texte2.txt : \", T[-1, -1], \"\\n\")\n",
    "\n",
    "# Affichage d'un alignement optimal\n",
    "print(\"Affichage d'un alignement optimal :\\n\\n\", reverse_lev(T, T.shape[0]-1, T.shape[1]-1, list(texte1), list(texte2)))"
   ]
  },
  {
   "cell_type": "markdown",
   "metadata": {},
   "source": [
    "# Question 4\n",
    "\n",
    "**La méthode proposée aux questions précédentes fonctionne correctement pour aligner un texte comprenant une seule ligne ou un seul paragraphe. On se propose désormais d’aligner et mettre en correspondance les différentes lignes/paragraphes d’un texte. Il s’agit donc de chercher à apparier les lignes (et non pas les caractères) d’un premier texte avec celles d’un second. Proposez une méthode, un algorithme de résolution et une implémentation pour cette nouvelle fonctionnalité (indications : on cherchera à se ramener un problème connu, dont on possède déjà une implémentation :)).**\n",
    "\n",
    "**Vous pourrez tester votre méthode sur les fichiers t1.txt et t2.txt. Vous devriez obtenir un résultat qui ressemble fortement à celui de la Figure 2**"
   ]
  },
  {
   "cell_type": "code",
   "execution_count": null,
   "metadata": {},
   "outputs": [],
   "source": [
    "class ParagraphLevenshtein:\n",
    "    \n",
    "    def __init__(self, text1, text2):\n",
    "        print('Initialisation...')\n",
    "        self.text1 = text1\n",
    "        self.text2 = text2\n",
    "        self.x = text1.split('\\n')\n",
    "        self.y = text2.split('\\n')\n",
    "        self.n = len(self.x)\n",
    "        self.m = len(self.y)\n",
    "        self.distances = np.zeros((self.n,self.m)) \n",
    "        self.T = np.zeros((self.n+1,self.m+1))\n",
    "        \n",
    "        print('Calcul des distances...')\n",
    "        self.fill_distances()\n",
    "        \n",
    "        print('Calcul des alignements optimaux...')\n",
    "        self.lev_by_par()\n",
    "        \n",
    "    def fill_distances(self):\n",
    "        \"\"\"Sauve toutes les distances d'edition entre xi et yj\"\"\"\n",
    "        di = self.distances\n",
    "        \n",
    "        for i in range(self.n):\n",
    "            xi = self.x[i]\n",
    "            for j in range(self.m):\n",
    "                yj = self.y[j]\n",
    "                di[i,j] = levenshtein_distance(xi,yj)[-1,-1]\n",
    "        \n",
    "    def lev_by_par(self) -> \"2d array of paragraph alignments\":\n",
    "        T, x, y, n, m = self.T, self.x, self.y, self.n, self.m # pour la lisibilité\n",
    "        \n",
    "        for i in range(n):\n",
    "            T[i+1,0] = T[i,0]+len(x[i])\n",
    "        for j in range(m):\n",
    "            T[0,j+1] = T[0,j]+len(y[j])\n",
    "\n",
    "        for i in range(n):\n",
    "            xi = x[i]\n",
    "            for j in range(m):\n",
    "                yj = y[j]\n",
    "                T[i+1,j+1] = min(\n",
    "                                T[i,j] + self.distances[i,j],\n",
    "                                T[i+1,j] + len(yj),\n",
    "                                T[i,j+1] + len(xi)\n",
    "                            )\n",
    "    def stretched_x_and_y(self, i, j):\n",
    "        if i==0 : return ['\\n%s'%self.y[k] for k in range(j)]\n",
    "        if j==0 : return ['%s\\n'%self.x[k] for k in range(i)]\n",
    "        T = self.T\n",
    "        xi = self.x[i-1]\n",
    "        yj = self.y[j-1]\n",
    "        \n",
    "        if T[i,j] == T[i-1,j-1] + self.distances[i-1,j-1]:\n",
    "            lev = levenshtein_distance(xi, yj)\n",
    "            rev = reverse_lev(lev, lev.shape[0]-1, lev.shape[1]-1, list(xi), list(yj))\n",
    "            return self.stretched_x_and_y(i-1,j-1) + [rev]\n",
    "            \n",
    "        elif T[i,j] == T[i, j-1] + len(yj):\n",
    "            rev = '_'*len(yj) + '\\n' + yj\n",
    "            return self.stretched_x_and_y(i,j-1) + [rev]\n",
    "            \n",
    "        else:\n",
    "            rev = xi + '\\n' + '_'*len(xi)\n",
    "            return self.stretched_x_and_y(i-1,j) + [rev]"
   ]
  },
  {
   "cell_type": "code",
   "execution_count": null,
   "metadata": {},
   "outputs": [],
   "source": [
    "def side_by_side_print(array, char_by_line):\n",
    "    \n",
    "    wrapper = textwrap.TextWrapper(width=char_by_line)\n",
    "    \n",
    "    \n",
    "    for sub in array:\n",
    "        \n",
    "        left, right = sub.split('\\n')\n",
    "        lw = wrapper.wrap(left)\n",
    "        rw = wrapper.wrap(right)\n",
    "        lw_bigger = len(lw) > len(rw)\n",
    "        \n",
    "        print('\\n\\t', '*'*char_by_line,'\\t\\t', '*'*char_by_line, '\\n')\n",
    "        \n",
    "        for i in range(min(len(lw), len(rw))):\n",
    "            if lw[i] and rw[i]:\n",
    "                print('|\\t{:<{x}}\\t|\\t{:<{x}}\\t|'.format(lw[i], rw[i], x=char_by_line))\n",
    "\n",
    "        if lw_bigger:\n",
    "            for i in range(len(rw), len(lw)):\n",
    "                print('|\\t{:<{x}}\\t|\\t{:<{x}}\\t|'.format(lw[i], '', x=char_by_line))\n",
    "                \n",
    "        else:\n",
    "            for i in range(len(lw), len(rw)):\n",
    "                print('|\\t{:<{x}}\\t|\\t{:<{x}}\\t|'.format('', rw[i], x=char_by_line))\n",
    "\n",
    "    print('\\n\\t', '*'*char_by_line,'\\t\\t', '*'*char_by_line, '\\n')\n"
   ]
  },
  {
   "cell_type": "code",
   "execution_count": null,
   "metadata": {},
   "outputs": [],
   "source": [
    "import textwrap \n",
    "\n",
    "t1 = open('t1.txt').read()\n",
    "t2 = open('t2.txt').read()\n",
    "\n",
    "a = ParagraphLevenshtein(t1,t2)\n",
    "res = a.stretched_x_and_y(a.n,a.m)\n",
    "\n",
    "print('Distances entre les textes : ', a.T[-1,-1])\n",
    "print('Longueur de t1 : ', len(t1))\n",
    "print('Longueur de t2 : ', len(t2))\n",
    "print('Score de similarité en % : ', 100*(len(t1)+len(t2)-a.T[-1,-1])/(len(t1)+len(t2)))\n",
    "\n",
    "side_by_side_print(res, 45)"
   ]
  }
 ],
 "metadata": {
  "kernelspec": {
   "display_name": "Python 3",
   "language": "python",
   "name": "python3"
  },
  "language_info": {
   "codemirror_mode": {
    "name": "ipython",
    "version": 3
   },
   "file_extension": ".py",
   "mimetype": "text/x-python",
   "name": "python",
   "nbconvert_exporter": "python",
   "pygments_lexer": "ipython3",
   "version": "3.6.5"
  },
  "latex_envs": {
   "LaTeX_envs_menu_present": true,
   "autoclose": false,
   "autocomplete": true,
   "bibliofile": "biblio.bib",
   "cite_by": "apalike",
   "current_citInitial": 1,
   "eqLabelWithNumbers": true,
   "eqNumInitial": 1,
   "hotkeys": {
    "equation": "Ctrl-E",
    "itemize": "Ctrl-I"
   },
   "labels_anchors": false,
   "latex_user_defs": false,
   "report_style_numbering": false,
   "user_envs_cfg": false
  }
 },
 "nbformat": 4,
 "nbformat_minor": 2
}
