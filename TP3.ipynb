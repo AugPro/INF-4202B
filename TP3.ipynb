{
 "cells": [
  {
   "cell_type": "markdown",
   "metadata": {},
   "source": [
    "# <center>Algorithmes pour le traitement de séquences.<br/>Alignement optimal et logiciel d’aide à la dététection de plagiat</center>\n",
    "<center>https://perso.esiee.fr/~coustyj/Sequences/IT-4301E-TDm2.html</center>"
   ]
  },
  {
   "cell_type": "markdown",
   "metadata": {},
   "source": [
    "Importons les packets utiles pour la suite et chargons le contenu des fichier en variable"
   ]
  },
  {
   "cell_type": "code",
   "execution_count": 295,
   "metadata": {},
   "outputs": [],
   "source": [
    "import numpy as np\n",
    "t1 = open('texte1.txt').read()\n",
    "t2 = open('texte2.txt').read()"
   ]
  },
  {
   "cell_type": "markdown",
   "metadata": {},
   "source": [
    "## Question 1\n",
    "**Proposer un algorithme en O(|x| × |y|) pour calculer le score d’un alignement optimal entre x et y (indications : on essaiera de se ramener à un problème connu).**"
   ]
  },
  {
   "cell_type": "markdown",
   "metadata": {},
   "source": [
    "Afin de calculer le score d'alignement optimal entre deux string, ici t1 et t2, nous allons calculer leur distance de Levenshtein"
   ]
  },
  {
   "cell_type": "markdown",
   "metadata": {},
   "source": [
    "## Question 2\n",
    "\n",
    "**On considère la matrice T de taille (|x|+1) × (|y|+1) telle que T[i][j] est le score d’un alignement optimal entre xi et yj, où xi et yj désignent les préfixes de x et de y de longueur i et j respectivement.**\n",
    "\n",
    "**Étant donnée la matrice T (obtenue par exemple avec l’algorithme de la question 1) et les séquences x et y, proposez un schéma de programme retournant un alignement optimal (x′,y′) de x et y.**\n",
    "\n",
    "**Évaluer la complexité de calcul de l’algorithme proposé; si celle-ci n’est pas linéaire, proposez un autre algorithme de complexité linéaire.**"
   ]
  },
  {
   "cell_type": "code",
   "execution_count": 2,
   "metadata": {},
   "outputs": [],
   "source": [
    "def levenshtein_distance(a :str, b:str) -> int:\n",
    "    n,m = len(a),len(b)\n",
    "    T = np.zeros((n+1,m+1))\n",
    "    T[:,0] = range(n+1)\n",
    "    T[0,:] = range(m+1)\n",
    "    \n",
    "    for i in range(n):\n",
    "        for j in range(m):\n",
    "            same = int(a[i]!=b[j])\n",
    "            T[i+1,j+1] = min(\n",
    "                        T[i, j] + same, # NOTE: Substitution\n",
    "                        T[i, j+1] + 1, # NOTE: Insertion\n",
    "                        T[i+1, j] + 1  # NOTE: Delete\n",
    "                    )\n",
    "            \n",
    "    return T"
   ]
  },
  {
   "cell_type": "markdown",
   "metadata": {},
   "source": [
    "# Question 3\n",
    "\n",
    "Implémentez les algorithmes des questions 1 et 2 et testez les en affichant un alignement optimal de texte1.c et texte2.c"
   ]
  },
  {
   "cell_type": "code",
   "execution_count": 3,
   "metadata": {},
   "outputs": [],
   "source": [
    "res = levenshtein_distance(t1,t2)"
   ]
  },
  {
   "cell_type": "code",
   "execution_count": 9,
   "metadata": {},
   "outputs": [],
   "source": [
    "def reverse_lev(T, i, j, x, y):\n",
    "    if i==0:\n",
    "        return ['-%s'%y[i] for i in range(j)]\n",
    "    if j==0:\n",
    "        return ['+%s'%x[j] for j in range(i)]\n",
    "    xi, yj = x[i-1], y[j-1]\n",
    "\n",
    "    if xi == yj:\n",
    "        return reverse_lev(T, i-1, j-1, x, y) + ['\\\\']\n",
    "    \n",
    "    else:\n",
    "        \n",
    "        if T[i-1, j-1] < T[i, j]:\n",
    "            return reverse_lev(T, i-1, j-1, x, y)+ ['\\\\%s\\t'%xi]\n",
    "\n",
    "        elif T[i-1, j] < T[i, j]:\n",
    "            return reverse_lev(T, i-1, j, x, y) + ['+%s'%yj]\n",
    "        \n",
    "        else:\n",
    "            return reverse_lev(T, i, j-1, x, y) + ['-%s'%yj]\n",
    "        "
   ]
  },
  {
   "cell_type": "code",
   "execution_count": 6,
   "metadata": {},
   "outputs": [
    {
     "data": {
      "text/plain": [
       "array([1801., 1800., 1799., ...,  579.,  578.,  577.])"
      ]
     },
     "execution_count": 6,
     "metadata": {},
     "output_type": "execute_result"
    }
   ],
   "source": [
    "levenshtein_distance(open('texte1.txt').read(),open('texte2.txt').read())[:,-1]"
   ]
  },
  {
   "cell_type": "code",
   "execution_count": 7,
   "metadata": {},
   "outputs": [
    {
     "data": {
      "text/plain": [
       "array([[0., 1.],\n",
       "       [1., 1.]])"
      ]
     },
     "execution_count": 7,
     "metadata": {},
     "output_type": "execute_result"
    }
   ],
   "source": [
    "levenshtein_distance('a','b')"
   ]
  },
  {
   "cell_type": "code",
   "execution_count": 47,
   "metadata": {},
   "outputs": [
    {
     "name": "stdout",
     "output_type": "stream",
     "text": [
      "789.0\n"
     ]
    }
   ],
   "source": [
    "tt= []\n",
    "for a,b in zip(t1.split('\\n'),t2.split('\\n')):\n",
    "    lev = levenshtein_distance(a,b)[-1,-1]\n",
    "#     print(lev)\n",
    "    tt.append(lev)\n",
    "print(sum(tt))"
   ]
  },
  {
   "cell_type": "code",
   "execution_count": 297,
   "metadata": {},
   "outputs": [
    {
     "name": "stdout",
     "output_type": "stream",
     "text": [
      "Pour transformer T2 en T1 \n",
      "\n",
      "__________________________________j'ai écris un texte de ouf\n",
      "kk kk k k kkkk  kk k kk moi aussi j'ai écris un texte de ouf\n"
     ]
    }
   ],
   "source": [
    "T1 = \"j'ai écris un texte de ouf\"\n",
    "T2 = \"kk kk k k kkkk  kk k kk moi aussi j'ai écris un texte de ouf\"\n",
    "T = levenshtein_distance(T1,T2)\n",
    "\n",
    "print('Pour transformer T2 en T1 \\n')\n",
    "print(reverse_lev(T,T.shape[0]-1,T.shape[1]-1,list(T1),list(T2)))"
   ]
  },
  {
   "cell_type": "code",
   "execution_count": 283,
   "metadata": {},
   "outputs": [],
   "source": [
    "def reverse_lev(T, i, j, x, y):\n",
    "    \n",
    "    if i==0:\n",
    "        x = ['_']*j + x\n",
    "        return '%s\\n%s'%(''.join(x), ''.join(y))\n",
    "    if j==0:\n",
    "        y = ['_']*i + y\n",
    "        return '%s\\n%s'%(''.join(x), ''.join(y))\n",
    "    \n",
    "    xi, yj = x[i-1], y[j-1]\n",
    "\n",
    "    if xi == yj:\n",
    "        return reverse_lev(T, i-1, j-1, x, y)\n",
    "    \n",
    "    else:\n",
    "        \n",
    "        if T[i-1, j-1] < T[i, j]:\n",
    "            return reverse_lev(T, i-1, j-1, x, y)\n",
    "\n",
    "        elif T[i-1, j] < T[i, j]:\n",
    "            y.insert(j,'_')\n",
    "            return reverse_lev(T, i-1, j, x, y)\n",
    "        \n",
    "        else:\n",
    "            x.insert(i,'_')\n",
    "            return reverse_lev(T, i, j-1, x, y)"
   ]
  }
 ],
 "metadata": {
  "kernelspec": {
   "display_name": "Python 3",
   "language": "python",
   "name": "python3"
  },
  "language_info": {
   "codemirror_mode": {
    "name": "ipython",
    "version": 3
   },
   "file_extension": ".py",
   "mimetype": "text/x-python",
   "name": "python",
   "nbconvert_exporter": "python",
   "pygments_lexer": "ipython3",
   "version": "3.6.5"
  },
  "latex_envs": {
   "LaTeX_envs_menu_present": true,
   "autoclose": false,
   "autocomplete": true,
   "bibliofile": "biblio.bib",
   "cite_by": "apalike",
   "current_citInitial": 1,
   "eqLabelWithNumbers": true,
   "eqNumInitial": 1,
   "hotkeys": {
    "equation": "Ctrl-E",
    "itemize": "Ctrl-I"
   },
   "labels_anchors": false,
   "latex_user_defs": false,
   "report_style_numbering": false,
   "user_envs_cfg": false
  }
 },
 "nbformat": 4,
 "nbformat_minor": 2
}
